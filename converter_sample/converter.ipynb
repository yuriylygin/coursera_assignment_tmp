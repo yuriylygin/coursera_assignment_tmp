{
 "cells": [
  {
   "cell_type": "code",
   "execution_count": 1,
   "metadata": {},
   "outputs": [],
   "source": [
    "import requests\n",
    "from decimal import Decimal\n",
    "from bs4 import BeautifulSoup"
   ]
  },
  {
   "cell_type": "code",
   "execution_count": 2,
   "metadata": {},
   "outputs": [],
   "source": [
    "def convert(amount, cur_from_, cur_to_, date, request):\n",
    "    \n",
    "    class Currency:\n",
    "        def __init__(self, XML_daily, charcode='RUR', ID=None, nominal=1, value=1):\n",
    "            self.charcode = charcode\n",
    "            self.ID = ID\n",
    "            self.nominal = nominal\n",
    "            self.value = value\n",
    "            self.from_cbr_XML(XML_daily)\n",
    "            \n",
    "        def from_cbr_XML(self, XML_daily):\n",
    "            if 'RUR' != self.charcode:\n",
    "                for currency in XML_daily.find_all('valute'):\n",
    "                    if self.charcode in currency.charcode.text:\n",
    "                        self.ID = currency.attrs['id']\n",
    "                        self.nominal = Decimal(currency.nominal.text)\n",
    "                        self.value = Decimal(currency.value.text.replace(',', '.'))\n",
    "\n",
    "        def __repr__(self):\n",
    "            return 'charcode={}, ID={}, nominal={}, value={}'.format(self.charcode, \n",
    "                                                                     self.ID, \n",
    "                                                                     self.nominal, \n",
    "                                                                     self.value)\n",
    "        \n",
    "        def to_currency(self, amount):\n",
    "            return Decimal(amount) * self.nominal / self.value\n",
    "        \n",
    "        def from_currency(self, amount):\n",
    "            return Decimal(amount) * self.value / self.nominal\n",
    "    \n",
    "\n",
    "    \n",
    "    host = 'https://www.cbr.ru/scripts/XML_daily.asp'\n",
    "    params = dict(date_req=date)\n",
    "    XML_daily = BeautifulSoup(request.get(url=host, params=params).text, 'lxml').valcurs\n",
    "    \n",
    "    cur_from = Currency(XML_daily, charcode=cur_from_)\n",
    "    cur_to = Currency(XML_daily, charcode=cur_to_)\n",
    "    \n",
    "\n",
    "    result = Currency(XML_daily, charcode=cur_to_).to_currency(\n",
    "        Currency(XML_daily, charcode=cur_from_).from_currency(amount)\n",
    "    )\n",
    "\n",
    "    return str(result.quantize(Decimal('.0001')))  # не забыть про округление до 4х знаков после запятой"
   ]
  },
  {
   "cell_type": "code",
   "execution_count": 3,
   "metadata": {},
   "outputs": [],
   "source": [
    "amount = Decimal(\"1000.1000\")\n",
    "cur_from = 'GBP'\n",
    "cur_to = 'USD'\n",
    "date = \"17/02/2005\""
   ]
  },
  {
   "cell_type": "code",
   "execution_count": 4,
   "metadata": {},
   "outputs": [
    {
     "data": {
      "text/plain": [
       "'1892.6882'"
      ]
     },
     "execution_count": 4,
     "metadata": {},
     "output_type": "execute_result"
    }
   ],
   "source": [
    "convert(amount, cur_from, cur_to, date, requests)"
   ]
  },
  {
   "cell_type": "code",
   "execution_count": null,
   "metadata": {},
   "outputs": [],
   "source": []
  }
 ],
 "metadata": {
  "kernelspec": {
   "display_name": "Python 3",
   "language": "python",
   "name": "python3"
  },
  "language_info": {
   "codemirror_mode": {
    "name": "ipython",
    "version": 3
   },
   "file_extension": ".py",
   "mimetype": "text/x-python",
   "name": "python",
   "nbconvert_exporter": "python",
   "pygments_lexer": "ipython3",
   "version": "3.7.2"
  }
 },
 "nbformat": 4,
 "nbformat_minor": 2
}
