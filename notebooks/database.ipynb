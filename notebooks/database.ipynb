{
 "cells": [
  {
   "cell_type": "code",
   "execution_count": 1,
   "metadata": {},
   "outputs": [],
   "source": [
    "from django.forms.models import model_to_dict\n",
    "from db.models import *\n",
    "from datetime import datetime"
   ]
  },
  {
   "cell_type": "code",
   "execution_count": 2,
   "metadata": {},
   "outputs": [],
   "source": [
    "def clear():\n",
    "    User.objects.all().delete()\n",
    "    Blog.objects.all().delete()\n",
    "    Topic.objects.all().delete()"
   ]
  },
  {
   "cell_type": "code",
   "execution_count": 3,
   "metadata": {},
   "outputs": [],
   "source": [
    "clear()"
   ]
  },
  {
   "cell_type": "code",
   "execution_count": 4,
   "metadata": {},
   "outputs": [],
   "source": [
    "def create():\n",
    "    u1 = User(first_name='u1', last_name='u1')\n",
    "    u2 = User(first_name='u2', last_name='u2')\n",
    "    u3 = User(first_name='u3', last_name='u3')\n",
    "\n",
    "    u1.save()\n",
    "    u2.save()\n",
    "    u3.save()\n",
    "\n",
    "    blog1 = Blog(title='blog1', author=u1)\n",
    "    blog2 = Blog(title='blog2', author=u1)\n",
    "    blog1.save()\n",
    "    blog2.save()\n",
    "    blog1.subscribers.add(u1, u2)\n",
    "    blog2.subscribers.add(u2)\n",
    "\n",
    "    topic1 = Topic(title='topic1', blog=blog1, author=u1)\n",
    "    topic2 = Topic(title='topic2_content', blog=blog1, author=u3, created='2017-01-01')\n",
    "    topic1.save()\n",
    "    topic2.save()\n",
    "    topic1.likes.add(u1, u2, u3)"
   ]
  },
  {
   "cell_type": "code",
   "execution_count": 5,
   "metadata": {},
   "outputs": [
    {
     "name": "stderr",
     "output_type": "stream",
     "text": [
      "C:\\Users\\LyginYuALaptop\\.virtualenvs\\python-3.6\\lib\\site-packages\\django\\db\\models\\fields\\__init__.py:1447: RuntimeWarning: DateTimeField Topic.created received a naive datetime (2017-01-01 00:00:00) while time zone support is active.\n",
      "  RuntimeWarning)\n"
     ]
    }
   ],
   "source": [
    "create()"
   ]
  },
  {
   "cell_type": "code",
   "execution_count": 6,
   "metadata": {},
   "outputs": [
    {
     "data": {
      "text/plain": [
       "<QuerySet [<User: 52,u1,u1>, <User: 53,u2,u2>, <User: 54,u3,u3>]>"
      ]
     },
     "execution_count": 6,
     "metadata": {},
     "output_type": "execute_result"
    }
   ],
   "source": [
    "User.objects.all()"
   ]
  },
  {
   "cell_type": "code",
   "execution_count": 7,
   "metadata": {},
   "outputs": [
    {
     "data": {
      "text/plain": [
       "<QuerySet [<Blog: 35,blog1,52>, <Blog: 36,blog2,52>]>"
      ]
     },
     "execution_count": 7,
     "metadata": {},
     "output_type": "execute_result"
    }
   ],
   "source": [
    "Blog.objects.all()"
   ]
  },
  {
   "cell_type": "code",
   "execution_count": 8,
   "metadata": {},
   "outputs": [
    {
     "data": {
      "text/plain": [
       "<QuerySet [<Topic: 35,topic1,35,52,2019-10-31 07:04:43.069360+00:00,db.User.None>, <Topic: 36,topic2_content,35,54,2017-01-01 00:00:00+00:00,db.User.None>]>"
      ]
     },
     "execution_count": 8,
     "metadata": {},
     "output_type": "execute_result"
    }
   ],
   "source": [
    "Topic.objects.all()"
   ]
  },
  {
   "cell_type": "code",
   "execution_count": 9,
   "metadata": {},
   "outputs": [],
   "source": [
    "def edit_all():\n",
    "    for user in User.objects.all():\n",
    "        user.first_name = 'uu1'\n",
    "        user.save()"
   ]
  },
  {
   "cell_type": "code",
   "execution_count": 10,
   "metadata": {},
   "outputs": [],
   "source": [
    "edit_all()"
   ]
  },
  {
   "cell_type": "code",
   "execution_count": 11,
   "metadata": {},
   "outputs": [],
   "source": [
    "def edit_u1_u2():\n",
    "    for user in User.objects.filter(Q(first_name='u1') | Q(first_name='u2')):\n",
    "        user.first_name = 'uu1'\n",
    "        user.save()"
   ]
  },
  {
   "cell_type": "code",
   "execution_count": 12,
   "metadata": {},
   "outputs": [],
   "source": [
    "edit_u1_u2()"
   ]
  },
  {
   "cell_type": "code",
   "execution_count": 13,
   "metadata": {},
   "outputs": [],
   "source": [
    "def delete_u1():\n",
    "    for user in User.objects.filter(first_name='u1'):\n",
    "        user.delete()"
   ]
  },
  {
   "cell_type": "code",
   "execution_count": 14,
   "metadata": {},
   "outputs": [],
   "source": [
    "delete_u1()"
   ]
  },
  {
   "cell_type": "code",
   "execution_count": 15,
   "metadata": {},
   "outputs": [],
   "source": [
    "def unsubscribe_u2_from_blogs():\n",
    "    for user in User.objects.filter(first_name='u2'):\n",
    "        for blog in Blog.objects.all():\n",
    "            blog.subscribers.remove(user)"
   ]
  },
  {
   "cell_type": "code",
   "execution_count": 16,
   "metadata": {},
   "outputs": [],
   "source": [
    "unsubscribe_u2_from_blogs()"
   ]
  },
  {
   "cell_type": "code",
   "execution_count": 17,
   "metadata": {},
   "outputs": [],
   "source": [
    "def get_topic_created_grated():\n",
    "    return Topic.objects.filter(created__gt='2018-01-01')"
   ]
  },
  {
   "cell_type": "code",
   "execution_count": 18,
   "metadata": {},
   "outputs": [
    {
     "name": "stderr",
     "output_type": "stream",
     "text": [
      "C:\\Users\\LyginYuALaptop\\.virtualenvs\\python-3.6\\lib\\site-packages\\django\\db\\models\\fields\\__init__.py:1447: RuntimeWarning: DateTimeField Topic.created received a naive datetime (2018-01-01 00:00:00) while time zone support is active.\n",
      "  RuntimeWarning)\n"
     ]
    },
    {
     "data": {
      "text/plain": [
       "<QuerySet [<Topic: 35,topic1,35,52,2019-10-31 07:04:43.069360+00:00,db.User.None>]>"
      ]
     },
     "execution_count": 18,
     "metadata": {},
     "output_type": "execute_result"
    }
   ],
   "source": [
    "get_topic_created_grated()"
   ]
  },
  {
   "cell_type": "code",
   "execution_count": 19,
   "metadata": {},
   "outputs": [],
   "source": [
    "def get_topic_title_ended():\n",
    "    return Topic.objects.filter(title__endswith='content')"
   ]
  },
  {
   "cell_type": "code",
   "execution_count": 20,
   "metadata": {},
   "outputs": [
    {
     "data": {
      "text/plain": [
       "<QuerySet [<Topic: 36,topic2_content,35,54,2017-01-01 00:00:00+00:00,db.User.None>]>"
      ]
     },
     "execution_count": 20,
     "metadata": {},
     "output_type": "execute_result"
    }
   ],
   "source": [
    "get_topic_title_ended()"
   ]
  },
  {
   "cell_type": "code",
   "execution_count": 21,
   "metadata": {},
   "outputs": [],
   "source": [
    "def get_user_with_limit():\n",
    "    return User.objects.all().order_by('-id')[:2]"
   ]
  },
  {
   "cell_type": "code",
   "execution_count": 22,
   "metadata": {},
   "outputs": [
    {
     "data": {
      "text/plain": [
       "<QuerySet [<User: 54,uu1,u3>, <User: 53,uu1,u2>]>"
      ]
     },
     "execution_count": 22,
     "metadata": {},
     "output_type": "execute_result"
    }
   ],
   "source": [
    "get_user_with_limit()"
   ]
  },
  {
   "cell_type": "code",
   "execution_count": 45,
   "metadata": {},
   "outputs": [],
   "source": [
    "def get_topic_count():\n",
    "    return Blog.objects.annotate(topic_count=Count('topic')).order_by('topic_count')"
   ]
  },
  {
   "cell_type": "code",
   "execution_count": 50,
   "metadata": {},
   "outputs": [
    {
     "data": {
      "text/plain": [
       "<QuerySet [<Blog: 36,blog2,52>, <Blog: 35,blog1,52>]>"
      ]
     },
     "execution_count": 50,
     "metadata": {},
     "output_type": "execute_result"
    }
   ],
   "source": [
    "get_topic_count()"
   ]
  },
  {
   "cell_type": "code",
   "execution_count": 44,
   "metadata": {},
   "outputs": [
    {
     "name": "stdout",
     "output_type": "stream",
     "text": [
      "SELECT \"db_blog\".\"id\", \"db_blog\".\"title\", \"db_blog\".\"author_id\", \"db_blog\".\"created\", COUNT(\"db_topic\".\"id\") AS \"topic_count\" FROM \"db_blog\" LEFT OUTER JOIN \"db_topic\" ON (\"db_blog\".\"id\" = \"db_topic\".\"blog_id\") GROUP BY \"db_blog\".\"id\", \"db_blog\".\"title\", \"db_blog\".\"author_id\", \"db_blog\".\"created\" ORDER BY \"topic_count\" ASC\n"
     ]
    }
   ],
   "source": [
    "print(Blog.objects.annotate(topic_count=Count('topic')).order_by('topic_count').query)"
   ]
  },
  {
   "cell_type": "markdown",
   "metadata": {},
   "source": []
  },
  {
   "cell_type": "code",
   "execution_count": 25,
   "metadata": {},
   "outputs": [
    {
     "name": "stdout",
     "output_type": "stream",
     "text": [
      "SELECT \"db_blog\".\"id\", \"db_blog\".\"title\", \"db_blog\".\"author_id\", \"db_blog\".\"created\", COUNT(\"db_topic\".\"id\") AS \"topic_count\" FROM \"db_blog\" LEFT OUTER JOIN \"db_topic\" ON (\"db_blog\".\"id\" = \"db_topic\".\"blog_id\") GROUP BY \"db_blog\".\"id\", \"db_blog\".\"title\", \"db_blog\".\"author_id\", \"db_blog\".\"created\"\n"
     ]
    }
   ],
   "source": [
    "print(Blog.objects.annotate(topic_count=Count('topic')).query)"
   ]
  },
  {
   "cell_type": "markdown",
   "metadata": {},
   "source": []
  },
  {
   "cell_type": "code",
   "execution_count": 73,
   "metadata": {},
   "outputs": [],
   "source": [
    "def get_avg_topic_count():\n",
    "    return Blog.objects.annotate(topic_count=Count('topic')).aggregate(avg=Avg('topic_count'))"
   ]
  },
  {
   "cell_type": "code",
   "execution_count": 54,
   "metadata": {},
   "outputs": [
    {
     "data": {
      "text/plain": [
       "{'count__avg': 1.0}"
      ]
     },
     "execution_count": 54,
     "metadata": {},
     "output_type": "execute_result"
    }
   ],
   "source": [
    "Blog.objects.annotate(count=Count('topic')).aggregate(Avg('count'))"
   ]
  },
  {
   "cell_type": "code",
   "execution_count": 72,
   "metadata": {},
   "outputs": [
    {
     "data": {
      "text/plain": [
       "{'author__count': 2}"
      ]
     },
     "execution_count": 72,
     "metadata": {},
     "output_type": "execute_result"
    }
   ],
   "source": [
    "Blog.objects.aggregate(Count('author'))"
   ]
  },
  {
   "cell_type": "code",
   "execution_count": 74,
   "metadata": {},
   "outputs": [
    {
     "name": "stdout",
     "output_type": "stream",
     "text": [
      "{'avg': 1.0}\n"
     ]
    }
   ],
   "source": [
    "print(Blog.objects.annotate(topic_count=Count('topic')).aggregate(avg=Avg('topic_count')))"
   ]
  },
  {
   "cell_type": "code",
   "execution_count": 68,
   "metadata": {},
   "outputs": [
    {
     "name": "stdout",
     "output_type": "stream",
     "text": [
      "SELECT \"db_blog\".\"id\", \"db_blog\".\"title\", \"db_blog\".\"author_id\", \"db_blog\".\"created\", COUNT(\"db_topic\".\"id\") AS \"count\" FROM \"db_blog\" LEFT OUTER JOIN \"db_topic\" ON (\"db_blog\".\"id\" = \"db_topic\".\"blog_id\") GROUP BY \"db_blog\".\"id\", \"db_blog\".\"title\", \"db_blog\".\"author_id\", \"db_blog\".\"created\"\n"
     ]
    }
   ],
   "source": [
    "print(Blog.objects.annotate(count=Count('topic')).query)"
   ]
  },
  {
   "cell_type": "markdown",
   "metadata": {},
   "source": []
  },
  {
   "cell_type": "code",
   "execution_count": 29,
   "metadata": {},
   "outputs": [],
   "source": [
    "def get_blog_that_have_more_than_one_topic():\n",
    "    return Blog.objects.annotate(topic_count=Count('topic')).filter(topic_count__gt=1)"
   ]
  },
  {
   "cell_type": "code",
   "execution_count": 30,
   "metadata": {},
   "outputs": [
    {
     "data": {
      "text/plain": [
       "<QuerySet [<Blog: 35,blog1,52>]>"
      ]
     },
     "execution_count": 30,
     "metadata": {},
     "output_type": "execute_result"
    }
   ],
   "source": [
    "get_blog_that_have_more_than_one_topic()"
   ]
  },
  {
   "cell_type": "code",
   "execution_count": 31,
   "metadata": {},
   "outputs": [
    {
     "name": "stdout",
     "output_type": "stream",
     "text": [
      "SELECT \"db_blog\".\"id\", \"db_blog\".\"title\", \"db_blog\".\"author_id\", \"db_blog\".\"created\", COUNT(\"db_topic\".\"id\") AS \"topic_count\" FROM \"db_blog\" LEFT OUTER JOIN \"db_topic\" ON (\"db_blog\".\"id\" = \"db_topic\".\"blog_id\") GROUP BY \"db_blog\".\"id\", \"db_blog\".\"title\", \"db_blog\".\"author_id\", \"db_blog\".\"created\" HAVING COUNT(\"db_topic\".\"id\") > 1\n"
     ]
    }
   ],
   "source": [
    "print(Blog.objects.annotate(topic_count=Count('topic')).filter(topic_count__gt=1).query)"
   ]
  },
  {
   "cell_type": "markdown",
   "metadata": {},
   "source": []
  },
  {
   "cell_type": "code",
   "execution_count": 32,
   "metadata": {},
   "outputs": [],
   "source": [
    "def get_topic_by_u1():\n",
    "    return Topic.objects.filter(author__first_name='u1')"
   ]
  },
  {
   "cell_type": "code",
   "execution_count": 33,
   "metadata": {},
   "outputs": [
    {
     "data": {
      "text/plain": [
       "<QuerySet []>"
      ]
     },
     "execution_count": 33,
     "metadata": {},
     "output_type": "execute_result"
    }
   ],
   "source": [
    "get_topic_by_u1()"
   ]
  },
  {
   "cell_type": "markdown",
   "metadata": {},
   "source": []
  },
  {
   "cell_type": "code",
   "execution_count": 34,
   "metadata": {},
   "outputs": [],
   "source": [
    "def get_user_that_dont_have_blog():\n",
    "    return User.objects.filter(blog__author__isnull=True)"
   ]
  },
  {
   "cell_type": "code",
   "execution_count": 35,
   "metadata": {},
   "outputs": [
    {
     "data": {
      "text/plain": [
       "<QuerySet [<User: 53,uu1,u2>, <User: 54,uu1,u3>]>"
      ]
     },
     "execution_count": 35,
     "metadata": {},
     "output_type": "execute_result"
    }
   ],
   "source": [
    "User.objects.filter(blog__author__isnull=True)"
   ]
  },
  {
   "cell_type": "code",
   "execution_count": 36,
   "metadata": {},
   "outputs": [
    {
     "data": {
      "text/plain": [
       "<QuerySet []>"
      ]
     },
     "execution_count": 36,
     "metadata": {},
     "output_type": "execute_result"
    }
   ],
   "source": [
    "User.objects.filter(blog__author__isnull=True, blog__isnull=False)"
   ]
  },
  {
   "cell_type": "code",
   "execution_count": 37,
   "metadata": {},
   "outputs": [
    {
     "name": "stdout",
     "output_type": "stream",
     "text": [
      "SELECT \"db_user\".\"id\", \"db_user\".\"first_name\", \"db_user\".\"last_name\" FROM \"db_user\" LEFT OUTER JOIN \"db_blog\" ON (\"db_user\".\"id\" = \"db_blog\".\"author_id\") WHERE \"db_blog\".\"author_id\" IS NULL\n"
     ]
    }
   ],
   "source": [
    "print(User.objects.filter(blog__author__isnull=True).query)"
   ]
  },
  {
   "cell_type": "markdown",
   "metadata": {},
   "source": []
  },
  {
   "cell_type": "code",
   "execution_count": 96,
   "metadata": {},
   "outputs": [],
   "source": [
    "def get_topic_that_like_all_users():\n",
    "    amount_of_users = User.objects.all().aggregate(count=Count('pk'))['count']\n",
    "    return Topic.objects.annotate(count_likes_user=Count('likes')).filter(count_likes_user=amount_of_users)"
   ]
  },
  {
   "cell_type": "code",
   "execution_count": 97,
   "metadata": {},
   "outputs": [
    {
     "data": {
      "text/plain": [
       "<QuerySet [<Topic: 35,topic1,35,52,2019-10-31 07:04:43.069360+00:00,db.User.None>]>"
      ]
     },
     "execution_count": 97,
     "metadata": {},
     "output_type": "execute_result"
    }
   ],
   "source": [
    "get_topic_that_like_all_users()"
   ]
  },
  {
   "cell_type": "code",
   "execution_count": 85,
   "metadata": {},
   "outputs": [],
   "source": [
    "amount_of_users = User.objects.all().aggregate(count=Count('pk'))['count']"
   ]
  },
  {
   "cell_type": "code",
   "execution_count": 93,
   "metadata": {},
   "outputs": [
    {
     "name": "stdout",
     "output_type": "stream",
     "text": [
      "SELECT \"db_topic\".\"id\", \"db_topic\".\"title\", \"db_topic\".\"blog_id\", \"db_topic\".\"author_id\", \"db_topic\".\"created\", COUNT(\"db_topic_likes\".\"user_id\") AS \"count_likes_user\" FROM \"db_topic\" LEFT OUTER JOIN \"db_topic_likes\" ON (\"db_topic\".\"id\" = \"db_topic_likes\".\"topic_id\") GROUP BY \"db_topic\".\"id\", \"db_topic\".\"title\", \"db_topic\".\"blog_id\", \"db_topic\".\"author_id\", \"db_topic\".\"created\" HAVING COUNT(\"db_topic_likes\".\"user_id\") = 3\n"
     ]
    }
   ],
   "source": [
    "print(Topic.objects.annotate(count_likes_user=Count('likes')).filter(count_likes_user=amount_of_users).query)"
   ]
  },
  {
   "cell_type": "markdown",
   "metadata": {},
   "source": []
  },
  {
   "cell_type": "code",
   "execution_count": 98,
   "metadata": {},
   "outputs": [],
   "source": [
    "def get_topic_that_dont_have_like():\n",
    "    return Topic.objects.annotate(count_likes_user=Count('likes')).filter(count_likes_user=0)"
   ]
  },
  {
   "cell_type": "code",
   "execution_count": 99,
   "metadata": {},
   "outputs": [
    {
     "name": "stdout",
     "output_type": "stream",
     "text": [
      "SELECT \"db_topic\".\"id\", \"db_topic\".\"title\", \"db_topic\".\"blog_id\", \"db_topic\".\"author_id\", \"db_topic\".\"created\", COUNT(\"db_topic_likes\".\"user_id\") AS \"count_likes_user\" FROM \"db_topic\" LEFT OUTER JOIN \"db_topic_likes\" ON (\"db_topic\".\"id\" = \"db_topic_likes\".\"topic_id\") GROUP BY \"db_topic\".\"id\", \"db_topic\".\"title\", \"db_topic\".\"blog_id\", \"db_topic\".\"author_id\", \"db_topic\".\"created\" HAVING COUNT(\"db_topic_likes\".\"user_id\") = 0\n"
     ]
    }
   ],
   "source": [
    "print(Topic.objects.annotate(count_likes_user=Count('likes')).filter(count_likes_user=0).query)"
   ]
  },
  {
   "cell_type": "code",
   "execution_count": null,
   "metadata": {},
   "outputs": [],
   "source": []
  }
 ],
 "metadata": {
  "kernelspec": {
   "display_name": "Django Shell-Plus",
   "language": "python",
   "name": "django_extensions"
  },
  "language_info": {
   "codemirror_mode": {
    "name": "ipython",
    "version": 3
   },
   "file_extension": ".py",
   "mimetype": "text/x-python",
   "name": "python",
   "nbconvert_exporter": "python",
   "pygments_lexer": "ipython3",
   "version": "3.6.8"
  }
 },
 "nbformat": 4,
 "nbformat_minor": 2
}
